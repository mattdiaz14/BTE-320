{
  "nbformat": 4,
  "nbformat_minor": 0,
  "metadata": {
    "colab": {
      "provenance": [],
      "authorship_tag": "ABX9TyMNm/GuxTzgT9PrEJAw8FWl",
      "include_colab_link": true
    },
    "kernelspec": {
      "name": "python3",
      "display_name": "Python 3"
    },
    "language_info": {
      "name": "python"
    }
  },
  "cells": [
    {
      "cell_type": "markdown",
      "metadata": {
        "id": "view-in-github",
        "colab_type": "text"
      },
      "source": [
        "<a href=\"https://colab.research.google.com/github/mattdiaz14/BTE-320/blob/main/In_Class_Assignment.ipynb\" target=\"_parent\"><img src=\"https://colab.research.google.com/assets/colab-badge.svg\" alt=\"Open In Colab\"/></a>"
      ]
    },
    {
      "cell_type": "code",
      "execution_count": null,
      "metadata": {
        "colab": {
          "base_uri": "https://localhost:8080/"
        },
        "id": "CXWbddRZCikA",
        "outputId": "4509a4bb-854d-4ecf-c935-e3f6b93ceea1"
      },
      "outputs": [
        {
          "output_type": "stream",
          "name": "stdout",
          "text": [
            "244.92000000000002\n"
          ]
        }
      ],
      "source": [
        "r=3\n",
        "h=10\n",
        "pi=3.14\n",
        "area = 2 * pi * r ** 2 + 2 * pi * r * h\n",
        "print(area)"
      ]
    },
    {
      "cell_type": "code",
      "source": [
        "p1 = input('Choose: Rock, Paper, Scissor: ')\n",
        "p2 = input('Choose: Rock, Paper, Scissor: ')\n",
        "if p1 == p2:\n",
        "  print('Draw')\n",
        "elif p1 == 'Rock' and p2 == 'Scissor':\n",
        "  print('Player 1 win')\n",
        "elif p1 == 'Paper' and p2 == 'Rock':\n",
        "  print('Player 1 win')\n",
        "elif p1 == 'Scissor' and p2 == 'Paper':\n",
        "  print('Player 1 win')\n",
        "else:\n",
        "  print('Player 2 win')"
      ],
      "metadata": {
        "colab": {
          "base_uri": "https://localhost:8080/"
        },
        "id": "J3c3v51dMCYC",
        "outputId": "f9645a8d-a0d6-4c43-df43-172c3297254b"
      },
      "execution_count": null,
      "outputs": [
        {
          "output_type": "stream",
          "name": "stdout",
          "text": [
            "Choose: Rock, Paper, Scissor: rock\n",
            "Choose: Rock, Paper, Scissor: rock\n",
            "Draw\n"
          ]
        }
      ]
    },
    {
      "cell_type": "code",
      "source": [
        "n1 = float(input('Enter number 1: '))\n",
        "n2 = float(input('Enter number 2: '))\n",
        "symbol = input('Enter symbol: ')\n",
        "if symbol == '+':\n",
        "  print(n1 + n2)\n",
        "\n",
        "elif symbol == '-':\n",
        "  print(n1 - n2)\n",
        "\n",
        "elif symbol == '*':\n",
        "  print(n1 * n2)\n",
        "\n",
        "elif symbol == '/':\n",
        "  print(n1 / n2)\n",
        "\n",
        "else: symbol == '**'\n",
        "print(n1 ** n2)\n",
        "\n",
        "\n"
      ],
      "metadata": {
        "id": "YmZBw4NRXIP_",
        "colab": {
          "base_uri": "https://localhost:8080/"
        },
        "outputId": "b41094b3-8d19-46e6-b572-daed1d624345"
      },
      "execution_count": 2,
      "outputs": [
        {
          "output_type": "stream",
          "name": "stdout",
          "text": [
            "Enter number 1: 2\n",
            "Enter number 2: 2\n",
            "Enter symbol: +\n",
            "4.0\n",
            "4.0\n"
          ]
        }
      ]
    }
  ]
}