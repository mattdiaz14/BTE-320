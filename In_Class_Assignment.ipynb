{
  "nbformat": 4,
  "nbformat_minor": 0,
  "metadata": {
    "colab": {
      "provenance": [],
      "authorship_tag": "ABX9TyPmv7xVtFZ8u/Y5Ti0Y44yL",
      "include_colab_link": true
    },
    "kernelspec": {
      "name": "python3",
      "display_name": "Python 3"
    },
    "language_info": {
      "name": "python"
    }
  },
  "cells": [
    {
      "cell_type": "markdown",
      "metadata": {
        "id": "view-in-github",
        "colab_type": "text"
      },
      "source": [
        "<a href=\"https://colab.research.google.com/github/mattdiaz14/BTE-320/blob/main/In_Class_Assignment.ipynb\" target=\"_parent\"><img src=\"https://colab.research.google.com/assets/colab-badge.svg\" alt=\"Open In Colab\"/></a>"
      ]
    },
    {
      "cell_type": "code",
      "execution_count": null,
      "metadata": {
        "colab": {
          "base_uri": "https://localhost:8080/"
        },
        "id": "CXWbddRZCikA",
        "outputId": "4509a4bb-854d-4ecf-c935-e3f6b93ceea1"
      },
      "outputs": [
        {
          "output_type": "stream",
          "name": "stdout",
          "text": [
            "244.92000000000002\n"
          ]
        }
      ],
      "source": [
        "r=3\n",
        "h=10\n",
        "pi=3.14\n",
        "area = 2 * pi * r ** 2 + 2 * pi * r * h\n",
        "print(area)"
      ]
    },
    {
      "cell_type": "code",
      "source": [
        "p1 = input('Choose: Rock, Paper, Scissor: ')\n",
        "p2 = input('Choose: Rock, Paper, Scissor: ')\n",
        "if p1 == p2:\n",
        "  print('Draw')\n",
        "elif p1 == 'Rock' and p2 == 'Scissor':\n",
        "  print('Player 1 win')\n",
        "elif p1 == 'Paper' and p2 == 'Rock':\n",
        "  print('Player 1 win')\n",
        "elif p1 == 'Scissor' and p2 == 'Paper':\n",
        "  print('Player 1 win')\n",
        "else:\n",
        "  print('Player 2 win')"
      ],
      "metadata": {
        "colab": {
          "base_uri": "https://localhost:8080/"
        },
        "id": "J3c3v51dMCYC",
        "outputId": "f9645a8d-a0d6-4c43-df43-172c3297254b"
      },
      "execution_count": null,
      "outputs": [
        {
          "output_type": "stream",
          "name": "stdout",
          "text": [
            "Choose: Rock, Paper, Scissor: rock\n",
            "Choose: Rock, Paper, Scissor: rock\n",
            "Draw\n"
          ]
        }
      ]
    },
    {
      "cell_type": "code",
      "source": [
        "n1 = float(input('Enter number 1: '))\n",
        "n2 = float(input('Enter number 2: '))\n",
        "symbol = input('Enter symbol: ')\n",
        "if symbol == '+':\n",
        "  print(n1 + n2)\n",
        "\n",
        "elif symbol == '-':\n",
        "  print(n1 - n2)\n",
        "\n",
        "elif symbol == '*':\n",
        "  print(n1 * n2)\n",
        "\n",
        "elif symbol == '/':\n",
        "  print(n1 / n2)\n",
        "\n",
        "else: symbol == '**'\n",
        "print(n1 ** n2)\n",
        "\n",
        "\n"
      ],
      "metadata": {
        "id": "YmZBw4NRXIP_",
        "colab": {
          "base_uri": "https://localhost:8080/"
        },
        "outputId": "b41094b3-8d19-46e6-b572-daed1d624345"
      },
      "execution_count": null,
      "outputs": [
        {
          "output_type": "stream",
          "name": "stdout",
          "text": [
            "Enter number 1: 2\n",
            "Enter number 2: 2\n",
            "Enter symbol: +\n",
            "4.0\n",
            "4.0\n"
          ]
        }
      ]
    },
    {
      "cell_type": "code",
      "source": [
        "flateRate = 5\n",
        "hourlyRate = 2.5\n",
        "\n",
        "for hour in range (1 , 9, 1):\n",
        "  charge = flateRate + (hourlyRate * hour)\n",
        "  if charge < 10:\n",
        "    charge = 10\n",
        "  elif charge > 20:\n",
        "    charge = 20\n",
        "  print(hour, charge)\n"
      ],
      "metadata": {
        "colab": {
          "base_uri": "https://localhost:8080/"
        },
        "id": "TSl6008DIZlC",
        "outputId": "8f3ecfbe-6013-47e8-9331-3247a3cfe1db"
      },
      "execution_count": null,
      "outputs": [
        {
          "output_type": "stream",
          "name": "stdout",
          "text": [
            "1 10\n",
            "2 10.0\n",
            "3 12.5\n",
            "4 15.0\n",
            "5 17.5\n",
            "6 20.0\n",
            "7 20\n",
            "8 20\n"
          ]
        }
      ]
    },
    {
      "cell_type": "code",
      "source": [
        "for ad in range (0, 201, 25):\n",
        "  additional = 2 * ad ** 0.5\n",
        "  profit = (20 + additional) * 10 - 200 - ad\n",
        "  print(ad, profit)\n"
      ],
      "metadata": {
        "colab": {
          "base_uri": "https://localhost:8080/"
        },
        "id": "vvvzEDe-JQE2",
        "outputId": "04b85bf3-35d0-4f73-c7ca-6361de32e987"
      },
      "execution_count": null,
      "outputs": [
        {
          "output_type": "stream",
          "name": "stdout",
          "text": [
            "0 0.0\n",
            "25 75.0\n",
            "50 91.42135623730951\n",
            "75 98.20508075688781\n",
            "100 100.0\n",
            "125 98.60679774997897\n",
            "150 94.94897427831779\n",
            "175 89.57513110645903\n",
            "200 82.84271247461902\n"
          ]
        }
      ]
    },
    {
      "cell_type": "code",
      "source": [
        "months = {}\n",
        "\n",
        "names = [\"Jan\", \"Feb\", \"Mar\", \"Apr\", \"May\", \"Jun\", \"Jul\", \"Aug\", \"Sep\", \"Oct\", \"Nov\", \"Dec\"]\n",
        "numbers = [1, 2, 3, 4, 5, 6, 7, 8, 9, 10, 11, 12]\n",
        "\n",
        "for i in range(len(numbers)):\n",
        "  months[numbers[i]] = names[i]\n",
        "\n",
        "print(months)"
      ],
      "metadata": {
        "colab": {
          "base_uri": "https://localhost:8080/"
        },
        "id": "h79TB4DNWYBc",
        "outputId": "a4a73fb6-65bf-4449-a85e-ecaa3c46f68e"
      },
      "execution_count": null,
      "outputs": [
        {
          "output_type": "stream",
          "name": "stdout",
          "text": [
            "{1: 'Jan', 2: 'Feb', 3: 'Mar', 4: 'Apr', 5: 'May', 6: 'Jun', 7: 'Jul', 8: 'Aug', 9: 'Sep', 10: 'Oct', 11: 'Nov', 12: 'Dec'}\n"
          ]
        }
      ]
    },
    {
      "cell_type": "code",
      "source": [
        "\n",
        "annual_salary = float(input(\"Enter your annual salary: \"))\n",
        "portion_saved = float(input(\"Enter the percent of your salary to save, as a decimal: \"))\n",
        "total_cost = float(input(\"Enter the cost of your dream home: \"))\n",
        "\n",
        "\n",
        "portion_down_payment = 0.25\n",
        "current_savings = 0.0\n",
        "r = 0.04\n",
        "\n",
        "\n",
        "down_payment = total_cost * portion_down_payment\n",
        "\n",
        "\n",
        "monthly_salary = annual_salary / 12\n",
        "\n",
        "\n",
        "months = 0\n",
        "\n",
        "\n",
        "while current_savings < down_payment:\n",
        "    current_savings += (current_savings * r / 12) + (monthly_salary * portion_saved)\n",
        "    months += 1\n",
        "\n",
        "\n",
        "print(\"Number of months:\", months)\n"
      ],
      "metadata": {
        "colab": {
          "base_uri": "https://localhost:8080/"
        },
        "id": "3YKtrAyipoP0",
        "outputId": "ff0a81a0-edd7-4236-858e-260a43d146a9"
      },
      "execution_count": null,
      "outputs": [
        {
          "output_type": "stream",
          "name": "stdout",
          "text": [
            "Enter your annual salary: 250000\n",
            "Enter the percent of your salary to save, as a decimal: .35\n",
            "Enter the cost of your dream home: 2000000\n",
            "Number of months: 62\n"
          ]
        }
      ]
    },
    {
      "cell_type": "code",
      "source": [
        "\n",
        "annual_salary = float(input(\"Enter your annual salary: \"))\n",
        "portion_saved = float(input(\"Enter the percent of your salary to save, as a decimal: \"))\n",
        "total_cost = float(input(\"Enter the cost of your dream home: \"))\n",
        "semi_annual_raise = float(input(\"Enter the semi-annual raise, as a decimal: \"))\n",
        "\n",
        "\n",
        "portion_down_payment = 0.25\n",
        "current_savings = 0.0\n",
        "r = 0.04\n",
        "\n",
        "\n",
        "down_payment = total_cost * portion_down_payment\n",
        "\n",
        "\n",
        "monthly_salary = annual_salary / 12\n",
        "\n",
        "\n",
        "months = 0\n",
        "\n",
        "\n",
        "while current_savings < down_payment:\n",
        "    current_savings += (current_savings * r / 12) + (monthly_salary * portion_saved)\n",
        "    months += 1\n",
        "\n",
        "\n",
        "    if months % 6 == 0:\n",
        "        annual_salary += annual_salary * semi_annual_raise\n",
        "        monthly_salary = annual_salary / 12\n",
        "\n",
        "\n",
        "print(\"Number of months:\", months)\n"
      ],
      "metadata": {
        "colab": {
          "base_uri": "https://localhost:8080/"
        },
        "id": "mSA77qbbp_LO",
        "outputId": "57f61467-b2ba-4a35-8fa0-0d9e63c764e7"
      },
      "execution_count": null,
      "outputs": [
        {
          "output_type": "stream",
          "name": "stdout",
          "text": [
            "Enter your annual salary: 120000\n",
            "Enter the percent of your salary to save, as a decimal: .05\n",
            "Enter the cost of your dream home: 500000\n",
            "Enter the semi-annual raise, as a decimal: .03\n",
            "Number of months: 142\n"
          ]
        }
      ]
    },
    {
      "cell_type": "code",
      "source": [
        "\n",
        "def range_check(number, low, high, mode='print'):\n",
        "    if mode == 'print':\n",
        "        if low <= number <= high:\n",
        "            print(f\"{number} is within the range {low} and {high}.\")\n",
        "        else:\n",
        "            print(f\"{number} is NOT within the range {low} and {high}.\")\n",
        "    elif mode == 'boolean':\n",
        "        return low <= number <= high\n",
        "    else:\n",
        "        print(\"Invalid mode! Please use 'print' or 'boolean'.\")\n",
        "\n",
        "\n",
        "number = float(input(\"Enter the number: \"))\n",
        "low = float(input(\"Enter the low end of the range: \"))\n",
        "high = float(input(\"Enter the high end of the range: \"))\n",
        "mode = input(\"Enter 'print' to print result or 'boolean' to return boolean: \").lower()\n",
        "\n",
        "\n",
        "if mode == 'boolean':\n",
        "    is_in_range = range_check(number, low, high, mode='boolean')\n",
        "    if is_in_range:\n",
        "        print(f\"{number} is within the range {low} and {high}.\")\n",
        "    else:\n",
        "        print(f\"{number} is NOT within the range {low} and {high}.\")\n",
        "else:\n",
        "    range_check(number, low, high, mode='print')\n"
      ],
      "metadata": {
        "id": "w9Qp5g-JrujD"
      },
      "execution_count": null,
      "outputs": []
    },
    {
      "cell_type": "code",
      "source": [
        "# Function that either prints or returns a boolean based on the mode\n",
        "def range_check(number, low, high, mode='print'):\n",
        "    if mode == 'print':\n",
        "        if low <= number <= high:\n",
        "            print(f\"{number} is within the range {low} and {high}.\")\n",
        "        else:\n",
        "            print(f\"{number} is NOT within the range {low} and {high}.\")\n",
        "    elif mode == 'boolean':\n",
        "        return low <= number <= high\n",
        "    else:\n",
        "        print(\"Invalid mode! Please use 'print' or 'boolean'.\")\n",
        "\n",
        "# Collect inputs from the user\n",
        "number = float(input(\"Enter the number: \"))\n",
        "low = float(input(\"Enter the low end of the range: \"))\n",
        "high = float(input(\"Enter the high end of the range: \"))\n",
        "mode = input(\"Enter 'print' to print result or 'boolean' to return boolean: \").lower()\n",
        "\n",
        "# Use the function\n",
        "if mode == 'boolean':\n",
        "    is_in_range = range_check(number, low, high, mode='boolean')\n",
        "    if is_in_range:\n",
        "        print(f\"{number} is within the range {low} and {high}.\")\n",
        "    else:\n",
        "        print(f\"{number} is NOT within the range {low} and {high}.\")\n",
        "else:\n",
        "    range_check(number, low, high, mode='print')\n"
      ],
      "metadata": {
        "id": "F3rtRjZttQmJ"
      },
      "execution_count": null,
      "outputs": []
    },
    {
      "cell_type": "code",
      "source": [
        "def range_check(num, low, high) :\n",
        "  if num >= low and num <= high :\n",
        "    return True\n",
        "  else :\n",
        "    return False\n",
        "print(range_check(num=2,low=1,high=3))"
      ],
      "metadata": {
        "colab": {
          "base_uri": "https://localhost:8080/"
        },
        "id": "LSfbzpYPv6ZW",
        "outputId": "8313d0e5-4f9d-4797-cd09-9b6b90c254af"
      },
      "execution_count": null,
      "outputs": [
        {
          "output_type": "stream",
          "name": "stdout",
          "text": [
            "True\n"
          ]
        }
      ]
    },
    {
      "cell_type": "code",
      "source": [
        "def calcfee(hours):\n",
        "  fee = 5 + hours * 2.5\n",
        "  return fee\n",
        "\n",
        "hours_parked = int(input('Enter hours of parking: '))\n",
        "f = calcfee(hours_parked)\n",
        "print(f)"
      ],
      "metadata": {
        "colab": {
          "base_uri": "https://localhost:8080/"
        },
        "id": "YUOI-nf63v96",
        "outputId": "5c1730de-7e9d-4db7-876a-64048822cc68"
      },
      "execution_count": 1,
      "outputs": [
        {
          "output_type": "stream",
          "name": "stdout",
          "text": [
            "Enter hours of parking: 4\n",
            "15.0\n"
          ]
        }
      ]
    },
    {
      "cell_type": "code",
      "source": [
        "def rev(s):\n",
        "  if len(s) == 1:\n",
        "    return s\n",
        "  else:\n",
        "    return s[-1] + rev(s[:-1])\n",
        "    return rev(s[1:]) + s[0]\n",
        "    return s[-1] + rev(s[:-1]) + s[0]\n",
        "\n",
        "rev('Halloween')"
      ],
      "metadata": {
        "colab": {
          "base_uri": "https://localhost:8080/",
          "height": 36
        },
        "id": "0J2qrEjW4ZIC",
        "outputId": "f173f4df-9c71-4e6f-e207-8b9ac5741160"
      },
      "execution_count": 6,
      "outputs": [
        {
          "output_type": "execute_result",
          "data": {
            "text/plain": [
              "'neewollaH'"
            ],
            "application/vnd.google.colaboratory.intrinsic+json": {
              "type": "string"
            }
          },
          "metadata": {},
          "execution_count": 6
        }
      ]
    },
    {
      "cell_type": "code",
      "source": [
        "def wAVG(L,w):\n",
        "  res = []\n",
        "  try:\n",
        "    for i in range(len(L)):\n",
        "      res.append(L[i]*w[i])\n",
        "    return sum(res)/sum(w)\n",
        "  except ZeroDivisionError:\n",
        "    print('Division by zero.')\n",
        "    return []\n",
        "  except TypeError:\n",
        "    print('Non-numerical objects found.')\n",
        "    return []\n",
        "  except Exception as e:\n",
        "    print(f'Unknown error: {e}')\n",
        "    return float('nan')\n",
        "\n",
        "wAVG([1,2,3], [.2,0,-.2])"
      ],
      "metadata": {
        "colab": {
          "base_uri": "https://localhost:8080/"
        },
        "id": "a-tGULmAICdu",
        "outputId": "70b1b5e8-220d-451f-9c52-337c30d30513"
      },
      "execution_count": null,
      "outputs": [
        {
          "output_type": "stream",
          "name": "stdout",
          "text": [
            "Division by zero.\n"
          ]
        },
        {
          "output_type": "execute_result",
          "data": {
            "text/plain": [
              "[]"
            ]
          },
          "metadata": {},
          "execution_count": 1
        }
      ]
    },
    {
      "cell_type": "code",
      "source": [
        "class Student:\n",
        "  def __init__(self, name, number):\n",
        "    self.name = name\n",
        "    self.number = number\n",
        "\n",
        "  def __repr__(self) :\n",
        "     return f'Name: {self.name}.'"
      ],
      "metadata": {
        "id": "Gtqi8A7k4uRG"
      },
      "execution_count": 8,
      "outputs": []
    },
    {
      "cell_type": "code",
      "source": [
        "s1 = Student('James Bond', '007')\n",
        "s2 = Student('Clark Kent', '333')\n"
      ],
      "metadata": {
        "id": "3vLWNxx_46EE"
      },
      "execution_count": 10,
      "outputs": []
    },
    {
      "cell_type": "code",
      "source": [
        "print(s1)"
      ],
      "metadata": {
        "colab": {
          "base_uri": "https://localhost:8080/"
        },
        "id": "a9SutcvK5KIx",
        "outputId": "ebb55e28-9143-4692-ca28-cd487f024e86"
      },
      "execution_count": 12,
      "outputs": [
        {
          "output_type": "stream",
          "name": "stdout",
          "text": [
            "Name: James Bond.\n"
          ]
        }
      ]
    }
  ]
}